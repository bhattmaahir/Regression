{
  "nbformat": 4,
  "nbformat_minor": 0,
  "metadata": {
    "colab": {
      "provenance": []
    },
    "kernelspec": {
      "name": "python3",
      "display_name": "Python 3"
    },
    "language_info": {
      "name": "python"
    }
  },
  "cells": [
    {
      "cell_type": "markdown",
      "source": [
        "# Regression\n"
      ],
      "metadata": {
        "id": "H3z9vb5oMS0Z"
      }
    },
    {
      "cell_type": "markdown",
      "source": [
        "\n",
        "1. What is Simple Linear Regression?\n",
        "\n",
        "    It is a statistical method to model the relationship between two variables by fitting a linear equation:\n",
        "    𝑌\n",
        "    =\n",
        "    𝑚\n",
        "    𝑋\n",
        "    +\n",
        "    𝑐\n",
        "    Y=mX+c\n",
        "      where Y is the dependent variable, X is the independent variable, m is the slope, and c is the intercept.\n"
      ],
      "metadata": {
        "id": "yYYU-o-QN9Pq"
      }
    },
    {
      "cell_type": "markdown",
      "source": [
        "\n",
        "2. What are the key assumptions of Simple Linear Regression?\n",
        "\n",
        "    Linearity\n",
        "\n",
        "    Independence of errors\n",
        "\n",
        "    Homoscedasticity (constant variance of errors)\n",
        "\n",
        "    Normality of errors\n"
      ],
      "metadata": {
        "id": "aQmeuaRfMiM_"
      }
    },
    {
      "cell_type": "markdown",
      "source": [
        "\n",
        "3. What does the coefficient m represent in the equation Y = mX + c?\n",
        "\n",
        "    It represents the slope, or the change in Y for a unit change in X.\n"
      ],
      "metadata": {
        "id": "QT1CU9XQMiX-"
      }
    },
    {
      "cell_type": "markdown",
      "source": [
        "\n",
        "4. What does the intercept c represent in the equation Y = mX + c?\n",
        "\n",
        "    It is the value of Y when X = 0.\n"
      ],
      "metadata": {
        "id": "J_6SenIkMinM"
      }
    },
    {
      "cell_type": "markdown",
      "source": [
        "\n",
        "5. How do we calculate the slope m in Simple Linear Regression?\n",
        "\n",
        "    m=\n",
        "n∑(XY)−∑X∑Y\n",
        "  \n",
        "   ​/\n",
        "\n",
        "    n∑(X\n",
        "2\n",
        " )−(∑X)\n",
        "2\n",
        "\n",
        "\n",
        "\n",
        ""
      ],
      "metadata": {
        "id": "n-F3lPoaMjHV"
      }
    },
    {
      "cell_type": "markdown",
      "source": [
        "\n",
        "6. What is the purpose of the least squares method in Simple Linear Regression?\n",
        "\n",
        "    To minimize the sum of squared differences between observed and predicted values (residuals).\n",
        "\n"
      ],
      "metadata": {
        "id": "CxDnufyvMjxy"
      }
    },
    {
      "cell_type": "markdown",
      "source": [
        "7. How is the coefficient of determination (R²) interpreted in Simple Linear Regression?\n",
        "\n",
        "    R² represents the proportion of the variance in the dependent variable that is predictable from the independent variable(s)."
      ],
      "metadata": {
        "id": "IYqQhQvZMj5S"
      }
    },
    {
      "cell_type": "markdown",
      "source": [
        "\n",
        "8. What is Multiple Linear Regression?\n",
        "\n",
        "    A statistical method that models the relationship between one dependent variable and two or more independent variables.\n"
      ],
      "metadata": {
        "id": "U-ARgk9ZMkBq"
      }
    },
    {
      "cell_type": "markdown",
      "source": [
        "\n",
        "9. What is the main difference between Simple and Multiple Linear Regression?\n",
        "\n",
        "    Simple Linear Regression involves one independent variable, while Multiple Linear Regression involves two or more.\n"
      ],
      "metadata": {
        "id": "xwg9DcjHMkHu"
      }
    },
    {
      "cell_type": "markdown",
      "source": [
        "\n",
        "10. What are the key assumptions of Multiple Linear Regression?\n",
        "\n",
        "    Linearity\n",
        "\n",
        "    Independence of errors\n",
        "\n",
        "    Homoscedasticity\n",
        "\n",
        "    Normality of errors\n",
        "\n",
        "    No multicollinearity\n"
      ],
      "metadata": {
        "id": "zvveIkMbMkNb"
      }
    },
    {
      "cell_type": "markdown",
      "source": [
        "\n",
        "11. What is heteroscedasticity, and how does it affect the results of a Multiple Linear Regression model?\n",
        "\n",
        "    Heteroscedasticity refers to non-constant variance of residuals. It can lead to inefficient estimates and misleading statistical tests.\n"
      ],
      "metadata": {
        "id": "6hzwXvfqMkQg"
      }
    },
    {
      "cell_type": "markdown",
      "source": [
        "\n",
        "12. How can you improve a Multiple Linear Regression model with high multicollinearity?\n",
        "\n",
        "    Remove highly correlated predictors\n",
        "\n",
        "    Use Principal Component Analysis (PCA)\n",
        "\n",
        "    Use Ridge or Lasso regression\n"
      ],
      "metadata": {
        "id": "LKz92K1QMkUo"
      }
    },
    {
      "cell_type": "markdown",
      "source": [
        "\n",
        "13. What are some common techniques for transforming categorical variables for use in regression models?\n",
        "\n",
        "    One-hot encoding\n",
        "\n",
        "    Label encoding\n",
        "\n",
        "    Ordinal encoding\n"
      ],
      "metadata": {
        "id": "eSC4Ht0IMkXy"
      }
    },
    {
      "cell_type": "markdown",
      "source": [
        "\n",
        "14. What is the role of interaction terms in Multiple Linear Regression?\n",
        "\n",
        "    Interaction terms model the combined effect of two variables that is not simply additive.\n",
        "\n"
      ],
      "metadata": {
        "id": "u89VbuNrMkbM"
      }
    },
    {
      "cell_type": "markdown",
      "source": [
        "\n",
        "15. How can the interpretation of intercept differ between Simple and Multiple Linear Regression?\n",
        "\n",
        "    In Multiple Regression, the intercept represents the predicted value of Y when all independent variables are zero — which may not always be meaningful.\n"
      ],
      "metadata": {
        "id": "N-sbOg6yMkfl"
      }
    },
    {
      "cell_type": "markdown",
      "source": [
        "\n",
        "16. What is the significance of the slope in regression analysis, and how does it affect predictions?\n",
        "\n",
        "    The slope indicates how much the dependent variable changes with a one-unit change in the independent variable.\n"
      ],
      "metadata": {
        "id": "6Cr_w8IdMkiC"
      }
    },
    {
      "cell_type": "markdown",
      "source": [
        "\n",
        "17. How does the intercept in a regression model provide context for the relationship between variables?\n",
        "\n",
        "    It gives a baseline value for the dependent variable when all predictors are zero.\n"
      ],
      "metadata": {
        "id": "e0adaiIxMklz"
      }
    },
    {
      "cell_type": "markdown",
      "source": [
        "\n",
        "18. What are the limitations of using R² as a sole measure of model performance?\n",
        "\n",
        "    It does not indicate whether predictors are statistically significant.\n",
        "\n",
        "    Can increase with irrelevant predictors.\n",
        "\n",
        "    Doesn’t show model bias or error distribution.\n"
      ],
      "metadata": {
        "id": "Hwt6ZJXKMkpb"
      }
    },
    {
      "cell_type": "markdown",
      "source": [
        "\n",
        "19. How would you interpret a large standard error for a regression coefficient?\n",
        "\n",
        "    It implies high uncertainty in estimating the coefficient, possibly due to multicollinearity or small sample size.\n"
      ],
      "metadata": {
        "id": "OaM76HDCMktp"
      }
    },
    {
      "cell_type": "markdown",
      "source": [
        "\n",
        "20. How can heteroscedasticity be identified in residual plots, and why is it important to address it?\n",
        "\n",
        "    It appears as a funnel or pattern in residual plots. It must be addressed as it violates regression assumptions, affecting confidence intervals and p-values.\n",
        "\n"
      ],
      "metadata": {
        "id": "pXajA0MhMkve"
      }
    },
    {
      "cell_type": "markdown",
      "source": [
        "\n",
        "21. What does it mean if a Multiple Linear Regression model has a high R² but low adjusted R²?\n",
        "\n",
        "    It suggests that added predictors don’t significantly improve the model and may be unnecessary.\n",
        "\n"
      ],
      "metadata": {
        "id": "_snFnKLgMkyZ"
      }
    },
    {
      "cell_type": "markdown",
      "source": [
        "22. Why is it important to scale variables in Multiple Linear Regression?\n",
        "\n",
        "    Scaling helps when predictors are on different scales and is especially crucial for regularization methods (e.g., Ridge, Lasso).\n",
        "\n",
        "\n"
      ],
      "metadata": {
        "id": "GrBtjUSpMk2V"
      }
    },
    {
      "cell_type": "markdown",
      "source": [
        "23. What is polynomial regression?\n",
        "\n",
        "    A form of regression where the relationship between independent and dependent variables is modeled as an nth-degree polynomial.\n",
        "\n"
      ],
      "metadata": {
        "id": "PmvTh74dMk6n"
      }
    },
    {
      "cell_type": "markdown",
      "source": [
        "\n",
        "24. How does polynomial regression differ from linear regression?\n",
        "\n",
        "    Polynomial regression can model non-linear relationships, while linear regression assumes a straight-line relationship."
      ],
      "metadata": {
        "id": "KZiTDVgEMk9O"
      }
    },
    {
      "cell_type": "markdown",
      "source": [
        "\n",
        "\n",
        "25. When is polynomial regression used?\n",
        "\n",
        "    When the data shows a curvilinear trend that cannot be captured by a straight line."
      ],
      "metadata": {
        "id": "tryT1rM7MlI0"
      }
    },
    {
      "cell_type": "markdown",
      "source": [
        "\n",
        "\n",
        "26. What is the general equation for polynomial regression?\n",
        "\n",
        "    𝑌\n",
        "=\n",
        "𝑏\n",
        "0\n",
        "    +\n",
        "𝑏\n",
        "1\n",
        "𝑋\n",
        "    +\n",
        "𝑏\n",
        "2\n",
        "𝑋\n",
        "2\n",
        "    +\n",
        "⋯\n",
        "    +\n",
        "𝑏\n",
        "𝑛\n",
        "𝑋\n",
        "𝑛\n",
        "Y=b\n",
        "0\n",
        "​\n",
        " +b\n",
        "1\n",
        "​\n",
        " X+b\n",
        "2\n",
        "​\n",
        " X\n",
        "2\n",
        " +⋯+b\n",
        "n\n",
        "​\n",
        " X\n",
        "n"
      ],
      "metadata": {
        "id": "Ek3DKvWCMlMe"
      }
    },
    {
      "cell_type": "markdown",
      "source": [
        "\n",
        "\n",
        "27. Can polynomial regression be applied to multiple variables?\n",
        "\n",
        "    Yes, by including polynomial terms for each variable and their interactions.\n"
      ],
      "metadata": {
        "id": "1xE4aG54MlP0"
      }
    },
    {
      "cell_type": "markdown",
      "source": [
        "\n",
        "\n",
        "28. What are the limitations of polynomial regression?\n",
        "\n",
        "    Prone to overfitting with high degrees\n",
        "\n",
        "    Interpretation becomes complex\n",
        "\n",
        "    Sensitive to outliers\n"
      ],
      "metadata": {
        "id": "xeBEFOtfMlTi"
      }
    },
    {
      "cell_type": "markdown",
      "source": [
        "29. What methods can be used to evaluate model fit when selecting the degree of a polynomial?\n",
        "\n",
        "    Cross-validation\n",
        "\n",
        "    Adjusted R²\n",
        "\n",
        "    AIC/BIC\n",
        "\n",
        "    Residual plots"
      ],
      "metadata": {
        "id": "V2K3S1HEMlX6"
      }
    },
    {
      "cell_type": "markdown",
      "source": [
        "30. Why is visualization important in polynomial regression?\n",
        "\n",
        "    To assess model fit and ensure it accurately captures the trend without overfitting.\n",
        "\n"
      ],
      "metadata": {
        "id": "CeCxC2w3MlfB"
      }
    },
    {
      "cell_type": "markdown",
      "source": [
        "31 . How is polynomial regression implemented in Python?\n",
        "\n",
        "   Polynomial regression models the relationship between a dependent variable and an independent variable as an\n",
        "𝑛\n",
        "n-th degree polynomial. It fits data with a curve instead of a straight line by including powers of the input features (e.g.,\n",
        "𝑥\n",
        ",\n",
        "𝑥\n",
        "2\n",
        ",\n",
        "𝑥\n",
        "3\n",
        ",\n",
        "…\n",
        "x,x\n",
        "2\n",
        " ,x\n",
        "3\n",
        " ,…). This allows modeling nonlinear relationships while still using linear regression on the transformed features."
      ],
      "metadata": {
        "id": "yZ0NlI_4UR5q"
      }
    }
  ]
}